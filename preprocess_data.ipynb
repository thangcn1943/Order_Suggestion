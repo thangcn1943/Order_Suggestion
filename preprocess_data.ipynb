{
 "cells": [
  {
   "cell_type": "code",
   "execution_count": 2,
   "metadata": {},
   "outputs": [],
   "source": [
    "import numpy as np\n",
    "import pandas as pd"
   ]
  },
  {
   "cell_type": "code",
   "execution_count": 7,
   "metadata": {},
   "outputs": [],
   "source": [
    "def downtype(df):\n",
    "    cols = df.dtypes.index.tolist()\n",
    "    types = df.dtypes.values.tolist()\n",
    "    for i,j in enumerate(types):\n",
    "        if pd.api.types.is_integer_dtype(j):\n",
    "            if(df[cols[i]].min() >= np.iinfo(np.int8).min and df[cols[i]].max() <= np.iinfo(np.int8).max):\n",
    "                df[cols[i]] = df[cols[i]].astype(np.int8)\n",
    "            elif(df[cols[i]].min() >= np.iinfo(np.int16).min and df[cols[i]].max() <= np.iinfo(np.int16).max):\n",
    "                df[cols[i]] = df[cols[i]].astype(np.int16)\n",
    "            elif(df[cols[i]].min() >= np.iinfo(np.int32).min and df[cols[i]].max() <= np.iinfo(np.int32).max):\n",
    "                df[cols[i]] = df[cols[i]].astype(np.int32)\n",
    "            elif(df[cols[i]].min() >= np.iinfo(np.int64).min and df[cols[i]].max() <= np.iinfo(np.int64).max):\n",
    "                df[cols[i]] = df[cols[i]].astype(np.int64)\n",
    "        elif pd.api.types.is_float_dtype(j):\n",
    "            if(df[cols[i]].min() >= np.finfo(np.float16).min and df[cols[i]].max() <= np.finfo(np.float16).max):\n",
    "                df[cols[i]] = df[cols[i]].astype(np.float16)\n",
    "            elif(df[cols[i]].min() >= np.finfo(np.float32).min and df[cols[i]].max() <= np.finfo(np.float32).max):\n",
    "                df[cols[i]] = df[cols[i]].astype(np.float32)\n",
    "            elif(df[cols[i]].min() >= np.finfo(np.float64).min and df[cols[i]].max() <= np.finfo(np.float64).max):\n",
    "                df[cols[i]] = df[cols[i]].astype(np.float64)\n",
    "        elif pd.api.types.is_object_dtype(j):\n",
    "            if cols[i] == 'date':\n",
    "                df[cols[i]] = pd.to_datetime(df[cols[i]], format='%Y-%m-%d')\n",
    "            else:\n",
    "                df[cols[i]] = df[cols[i]].astype('category')\n",
    "    return df"
   ]
  },
  {
   "cell_type": "code",
   "execution_count": 4,
   "metadata": {},
   "outputs": [],
   "source": [
    "sales = pd.read_csv('data/sales_train_validation.csv')\n",
    "prices = pd.read_csv('data/sell_prices.csv')\n",
    "calendar = pd.read_csv('data/calendar.csv')"
   ]
  },
  {
   "cell_type": "code",
   "execution_count": 8,
   "metadata": {},
   "outputs": [],
   "source": [
    "sales = downtype(sales)\n",
    "prices = downtype(prices)\n",
    "calendar = downtype(calendar)\n",
    "sales.to_csv('data/sales_train_validation.csv')\n",
    "prices.to_csv('data/sell_prices.csv')\n",
    "calendar.to_csv('data/calendar.csv')"
   ]
  }
 ],
 "metadata": {
  "kernelspec": {
   "display_name": "base",
   "language": "python",
   "name": "python3"
  },
  "language_info": {
   "codemirror_mode": {
    "name": "ipython",
    "version": 3
   },
   "file_extension": ".py",
   "mimetype": "text/x-python",
   "name": "python",
   "nbconvert_exporter": "python",
   "pygments_lexer": "ipython3",
   "version": "3.12.4"
  }
 },
 "nbformat": 4,
 "nbformat_minor": 2
}
